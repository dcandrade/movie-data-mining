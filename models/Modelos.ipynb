{
 "cells": [
  {
   "cell_type": "code",
   "execution_count": 1,
   "metadata": {},
   "outputs": [],
   "source": [
    "import pandas as pd\n",
    "from sklearn.neighbors import KNeighborsRegressor\n",
    "from sklearn.tree import DecisionTreeRegressor\n",
    "from sklearn.svm import SVR\n",
    "from sklearn.model_selection import cross_val_score"
   ]
  },
  {
   "cell_type": "code",
   "execution_count": 2,
   "metadata": {},
   "outputs": [
    {
     "data": {
      "text/html": [
       "<div>\n",
       "<style scoped>\n",
       "    .dataframe tbody tr th:only-of-type {\n",
       "        vertical-align: middle;\n",
       "    }\n",
       "\n",
       "    .dataframe tbody tr th {\n",
       "        vertical-align: top;\n",
       "    }\n",
       "\n",
       "    .dataframe thead th {\n",
       "        text-align: right;\n",
       "    }\n",
       "</style>\n",
       "<table border=\"1\" class=\"dataframe\">\n",
       "  <thead>\n",
       "    <tr style=\"text-align: right;\">\n",
       "      <th></th>\n",
       "      <th>num_critic_for_reviews</th>\n",
       "      <th>duration</th>\n",
       "      <th>director_facebook_likes</th>\n",
       "      <th>actor_3_facebook_likes</th>\n",
       "      <th>actor_1_facebook_likes</th>\n",
       "      <th>gross</th>\n",
       "      <th>num_voted_users</th>\n",
       "      <th>cast_total_facebook_likes</th>\n",
       "      <th>num_user_for_reviews</th>\n",
       "      <th>budget</th>\n",
       "      <th>...</th>\n",
       "      <th>keyword_xmen</th>\n",
       "      <th>keyword_yacht</th>\n",
       "      <th>keyword_yakuza</th>\n",
       "      <th>keyword_yardsale</th>\n",
       "      <th>keyword_youngerversionofcharacter</th>\n",
       "      <th>keyword_zeus</th>\n",
       "      <th>keyword_zombie</th>\n",
       "      <th>keyword_zombieapocalypse</th>\n",
       "      <th>keyword_zoo</th>\n",
       "      <th>keyword_zorro</th>\n",
       "    </tr>\n",
       "  </thead>\n",
       "  <tbody>\n",
       "    <tr>\n",
       "      <th>0</th>\n",
       "      <td>0.889163</td>\n",
       "      <td>0.529412</td>\n",
       "      <td>0.391321</td>\n",
       "      <td>0.037090</td>\n",
       "      <td>0.001559</td>\n",
       "      <td>1.000000</td>\n",
       "      <td>0.524453</td>\n",
       "      <td>0.007358</td>\n",
       "      <td>0.603479</td>\n",
       "      <td>0.019402</td>\n",
       "      <td>...</td>\n",
       "      <td>0.0</td>\n",
       "      <td>0.0</td>\n",
       "      <td>0.0</td>\n",
       "      <td>0.0</td>\n",
       "      <td>0.0</td>\n",
       "      <td>0.0</td>\n",
       "      <td>0.0</td>\n",
       "      <td>0.0</td>\n",
       "      <td>0.0</td>\n",
       "      <td>0.0</td>\n",
       "    </tr>\n",
       "    <tr>\n",
       "      <th>1</th>\n",
       "      <td>0.370690</td>\n",
       "      <td>0.501548</td>\n",
       "      <td>0.024393</td>\n",
       "      <td>0.043395</td>\n",
       "      <td>0.062497</td>\n",
       "      <td>0.406840</td>\n",
       "      <td>0.278865</td>\n",
       "      <td>0.073620</td>\n",
       "      <td>0.244515</td>\n",
       "      <td>0.024559</td>\n",
       "      <td>...</td>\n",
       "      <td>0.0</td>\n",
       "      <td>0.0</td>\n",
       "      <td>0.0</td>\n",
       "      <td>0.0</td>\n",
       "      <td>0.0</td>\n",
       "      <td>0.0</td>\n",
       "      <td>0.0</td>\n",
       "      <td>0.0</td>\n",
       "      <td>0.0</td>\n",
       "      <td>0.0</td>\n",
       "    </tr>\n",
       "    <tr>\n",
       "      <th>2</th>\n",
       "      <td>0.740148</td>\n",
       "      <td>0.436533</td>\n",
       "      <td>0.012140</td>\n",
       "      <td>0.006914</td>\n",
       "      <td>0.017184</td>\n",
       "      <td>0.263080</td>\n",
       "      <td>0.163256</td>\n",
       "      <td>0.017813</td>\n",
       "      <td>0.196284</td>\n",
       "      <td>0.020056</td>\n",
       "      <td>...</td>\n",
       "      <td>0.0</td>\n",
       "      <td>0.0</td>\n",
       "      <td>0.0</td>\n",
       "      <td>0.0</td>\n",
       "      <td>0.0</td>\n",
       "      <td>0.0</td>\n",
       "      <td>0.0</td>\n",
       "      <td>0.0</td>\n",
       "      <td>0.0</td>\n",
       "      <td>0.0</td>\n",
       "    </tr>\n",
       "    <tr>\n",
       "      <th>3</th>\n",
       "      <td>1.000000</td>\n",
       "      <td>0.486068</td>\n",
       "      <td>0.956518</td>\n",
       "      <td>1.000000</td>\n",
       "      <td>0.042185</td>\n",
       "      <td>0.589253</td>\n",
       "      <td>0.677216</td>\n",
       "      <td>0.162559</td>\n",
       "      <td>0.533702</td>\n",
       "      <td>0.020466</td>\n",
       "      <td>...</td>\n",
       "      <td>0.0</td>\n",
       "      <td>0.0</td>\n",
       "      <td>0.0</td>\n",
       "      <td>0.0</td>\n",
       "      <td>0.0</td>\n",
       "      <td>0.0</td>\n",
       "      <td>0.0</td>\n",
       "      <td>0.0</td>\n",
       "      <td>0.0</td>\n",
       "      <td>0.0</td>\n",
       "    </tr>\n",
       "    <tr>\n",
       "      <th>4</th>\n",
       "      <td>0.567734</td>\n",
       "      <td>0.386997</td>\n",
       "      <td>0.020567</td>\n",
       "      <td>0.022959</td>\n",
       "      <td>0.000997</td>\n",
       "      <td>0.096066</td>\n",
       "      <td>0.125579</td>\n",
       "      <td>0.002849</td>\n",
       "      <td>0.145681</td>\n",
       "      <td>0.021587</td>\n",
       "      <td>...</td>\n",
       "      <td>0.0</td>\n",
       "      <td>0.0</td>\n",
       "      <td>0.0</td>\n",
       "      <td>0.0</td>\n",
       "      <td>0.0</td>\n",
       "      <td>0.0</td>\n",
       "      <td>0.0</td>\n",
       "      <td>0.0</td>\n",
       "      <td>0.0</td>\n",
       "      <td>0.0</td>\n",
       "    </tr>\n",
       "  </tbody>\n",
       "</table>\n",
       "<p>5 rows × 4656 columns</p>\n",
       "</div>"
      ],
      "text/plain": [
       "   num_critic_for_reviews  duration  director_facebook_likes  \\\n",
       "0                0.889163  0.529412                 0.391321   \n",
       "1                0.370690  0.501548                 0.024393   \n",
       "2                0.740148  0.436533                 0.012140   \n",
       "3                1.000000  0.486068                 0.956518   \n",
       "4                0.567734  0.386997                 0.020567   \n",
       "\n",
       "   actor_3_facebook_likes  actor_1_facebook_likes     gross  num_voted_users  \\\n",
       "0                0.037090                0.001559  1.000000         0.524453   \n",
       "1                0.043395                0.062497  0.406840         0.278865   \n",
       "2                0.006914                0.017184  0.263080         0.163256   \n",
       "3                1.000000                0.042185  0.589253         0.677216   \n",
       "4                0.022959                0.000997  0.096066         0.125579   \n",
       "\n",
       "   cast_total_facebook_likes  num_user_for_reviews    budget      ...        \\\n",
       "0                   0.007358              0.603479  0.019402      ...         \n",
       "1                   0.073620              0.244515  0.024559      ...         \n",
       "2                   0.017813              0.196284  0.020056      ...         \n",
       "3                   0.162559              0.533702  0.020466      ...         \n",
       "4                   0.002849              0.145681  0.021587      ...         \n",
       "\n",
       "   keyword_xmen  keyword_yacht  keyword_yakuza  keyword_yardsale  \\\n",
       "0           0.0            0.0             0.0               0.0   \n",
       "1           0.0            0.0             0.0               0.0   \n",
       "2           0.0            0.0             0.0               0.0   \n",
       "3           0.0            0.0             0.0               0.0   \n",
       "4           0.0            0.0             0.0               0.0   \n",
       "\n",
       "   keyword_youngerversionofcharacter  keyword_zeus  keyword_zombie  \\\n",
       "0                                0.0           0.0             0.0   \n",
       "1                                0.0           0.0             0.0   \n",
       "2                                0.0           0.0             0.0   \n",
       "3                                0.0           0.0             0.0   \n",
       "4                                0.0           0.0             0.0   \n",
       "\n",
       "   keyword_zombieapocalypse  keyword_zoo  keyword_zorro  \n",
       "0                       0.0          0.0            0.0  \n",
       "1                       0.0          0.0            0.0  \n",
       "2                       0.0          0.0            0.0  \n",
       "3                       0.0          0.0            0.0  \n",
       "4                       0.0          0.0            0.0  \n",
       "\n",
       "[5 rows x 4656 columns]"
      ]
     },
     "execution_count": 2,
     "metadata": {},
     "output_type": "execute_result"
    }
   ],
   "source": [
    "df = pd.read_csv('data_sem_pca.csv')\n",
    "df.drop('Unnamed: 0', axis='columns', inplace=True)\n",
    "df.head()"
   ]
  },
  {
   "cell_type": "code",
   "execution_count": 3,
   "metadata": {},
   "outputs": [],
   "source": [
    "# Variáveis experimentais\n",
    "ks = [i for i in range(1,21)]\n",
    "knnresults = {}\n",
    "treeresults={}\n",
    "svmresults={}\n",
    "k_history = {}"
   ]
  },
  {
   "cell_type": "markdown",
   "metadata": {},
   "source": [
    "## 1. Número de curtidas na página do filme do facebook"
   ]
  },
  {
   "cell_type": "code",
   "execution_count": 4,
   "metadata": {},
   "outputs": [],
   "source": [
    "title = 'Número de curtidas na página do filme do facebook'\n",
    "variable = 'movie_facebook_likes'\n",
    "X = df.drop(variable, axis='columns')\n",
    "y = df[variable]"
   ]
  },
  {
   "cell_type": "markdown",
   "metadata": {},
   "source": [
    "### kNN"
   ]
  },
  {
   "cell_type": "code",
   "execution_count": 5,
   "metadata": {},
   "outputs": [],
   "source": [
    "kresults = []\n",
    "for k in ks:\n",
    "    regressor = KNeighborsRegressor(n_neighbors=k, p=2, algorithm='kd_tree')\n",
    "    result = cross_val_score(regressor, X, y, scoring='neg_mean_absolute_error', cv=10)\n",
    "    kresults.append(abs(result.mean() * 100))\n",
    "k_history[variable] = kresults"
   ]
  },
  {
   "cell_type": "code",
   "execution_count": 42,
   "metadata": {},
   "outputs": [
    {
     "data": {
      "text/plain": [
       "(Text(0.5,1,'Escore IMDb\\nRegressão kNN: Erro Absoluto Médio variando k'),\n",
       " 1     14.429685\n",
       " 2     12.705368\n",
       " 3     11.912899\n",
       " 4     11.600569\n",
       " 5     11.311145\n",
       " 6     11.156758\n",
       " 7     11.061840\n",
       " 8     10.965297\n",
       " 9     10.891222\n",
       " 10    10.847611\n",
       " 11    10.785852\n",
       " 12    10.759055\n",
       " 13    10.731408\n",
       " 14    10.734413\n",
       " 15    10.704245\n",
       " 16    10.704587\n",
       " 17    10.687170\n",
       " 18    10.669227\n",
       " 19    10.646473\n",
       " 20    10.637663\n",
       " dtype: float64)"
      ]
     },
     "execution_count": 42,
     "metadata": {},
     "output_type": "execute_result"
    },
    {
     "data": {
      "image/png": "[encoded data removed]",
      "text/plain": [
       "<Figure size 432x288 with 1 Axes>"
      ]
     },
     "metadata": {},
     "output_type": "display_data"
    }
   ],
   "source": [
    "kseries = pd.Series(data=kresults, index=ks)\n",
    "plot = kseries.plot(x=ks)\n",
    "plot.set_xticks(ks)\n",
    "plot.set_xlabel('k')\n",
    "plot.set_ylabel('Erro Absoluto Médio (%)')\n",
    "plot.set_title(title+'\\nRegressão kNN: Erro Absoluto Médio variando k'), kseries"
   ]
  },
  {
   "cell_type": "code",
   "execution_count": 7,
   "metadata": {},
   "outputs": [
    {
     "data": {
      "text/plain": [
       "3.3849668919285474"
      ]
     },
     "execution_count": 7,
     "metadata": {},
     "output_type": "execute_result"
    }
   ],
   "source": [
    "# adotando k=9\n",
    "k=9\n",
    "knnresults[variable] = kresults[k-1]\n",
    "knnresults[variable]"
   ]
  },
  {
   "cell_type": "markdown",
   "metadata": {},
   "source": [
    "### Árvore de Decisão"
   ]
  },
  {
   "cell_type": "code",
   "execution_count": 8,
   "metadata": {},
   "outputs": [
    {
     "data": {
      "text/plain": [
       "3.014828100405665"
      ]
     },
     "execution_count": 8,
     "metadata": {},
     "output_type": "execute_result"
    }
   ],
   "source": [
    "# Todas as configurações são default\n",
    "regressor = DecisionTreeRegressor(random_state=0)\n",
    "result = cross_val_score(regressor, X, y, scoring='neg_mean_absolute_error', cv=10)\n",
    "treeresults[variable] = abs(result.mean() * 100)\n",
    "treeresults[variable]"
   ]
  },
  {
   "cell_type": "markdown",
   "metadata": {},
   "source": [
    "### SVM"
   ]
  },
  {
   "cell_type": "code",
   "execution_count": 9,
   "metadata": {},
   "outputs": [
    {
     "data": {
      "text/plain": [
       "6.840148419073976"
      ]
     },
     "execution_count": 9,
     "metadata": {},
     "output_type": "execute_result"
    }
   ],
   "source": [
    "regressor = SVR()\n",
    "result = cross_val_score(regressor, X, y, scoring='neg_mean_absolute_error', cv=10)\n",
    "svmresults[variable] = abs(result.mean() * 100)\n",
    "svmresults[variable]"
   ]
  },
  {
   "cell_type": "markdown",
   "metadata": {},
   "source": [
    "## 2. Número de avaliações por usuário"
   ]
  },
  {
   "cell_type": "code",
   "execution_count": 10,
   "metadata": {},
   "outputs": [],
   "source": [
    "title = 'Número de avaliações por usuário'\n",
    "variable = 'num_user_for_reviews'\n",
    "X = df.drop(variable, axis='columns')\n",
    "y = df[variable]"
   ]
  },
  {
   "cell_type": "markdown",
   "metadata": {},
   "source": [
    "### kNN"
   ]
  },
  {
   "cell_type": "code",
   "execution_count": 11,
   "metadata": {},
   "outputs": [],
   "source": [
    "kresults = []\n",
    "for k in ks:\n",
    "    regressor = KNeighborsRegressor(n_neighbors=k, p=2, algorithm='kd_tree')\n",
    "    result = cross_val_score(regressor, X, y, scoring='neg_mean_absolute_error', cv=10)\n",
    "    kresults.append(abs(result.mean() * 100))\n",
    "k_history[variable] = kresults"
   ]
  },
  {
   "cell_type": "code",
   "execution_count": 43,
   "metadata": {},
   "outputs": [
    {
     "data": {
      "text/plain": [
       "(Text(0.5,1,'Escore IMDb\\nRegressão kNN: Erro Absoluto Médio variando k'),\n",
       " 1     14.429685\n",
       " 2     12.705368\n",
       " 3     11.912899\n",
       " 4     11.600569\n",
       " 5     11.311145\n",
       " 6     11.156758\n",
       " 7     11.061840\n",
       " 8     10.965297\n",
       " 9     10.891222\n",
       " 10    10.847611\n",
       " 11    10.785852\n",
       " 12    10.759055\n",
       " 13    10.731408\n",
       " 14    10.734413\n",
       " 15    10.704245\n",
       " 16    10.704587\n",
       " 17    10.687170\n",
       " 18    10.669227\n",
       " 19    10.646473\n",
       " 20    10.637663\n",
       " dtype: float64)"
      ]
     },
     "execution_count": 43,
     "metadata": {},
     "output_type": "execute_result"
    },
    {
     "data": {
      "image/png": "[encoded data removed]",
      "text/plain": [
       "<Figure size 432x288 with 1 Axes>"
      ]
     },
     "metadata": {},
     "output_type": "display_data"
    }
   ],
   "source": [
    "kseries = pd.Series(data=kresults, index=ks)\n",
    "plot = kseries.plot(x=ks)\n",
    "plot.set_xticks(ks)\n",
    "plot.set_xlabel('k')\n",
    "plot.set_ylabel('Erro Absoluto Médio (%)')\n",
    "plot.set_title(title+'\\nRegressão kNN: Erro Absoluto Médio variando k'), kseries"
   ]
  },
  {
   "cell_type": "code",
   "execution_count": 13,
   "metadata": {},
   "outputs": [
    {
     "data": {
      "text/plain": [
       "4.133431984958501"
      ]
     },
     "execution_count": 13,
     "metadata": {},
     "output_type": "execute_result"
    }
   ],
   "source": [
    "# Adotando k = 11\n",
    "k=11\n",
    "knnresults[variable] = kresults[k-1]\n",
    "knnresults[variable]"
   ]
  },
  {
   "cell_type": "markdown",
   "metadata": {},
   "source": [
    "### Árvore de Decisão"
   ]
  },
  {
   "cell_type": "code",
   "execution_count": 14,
   "metadata": {},
   "outputs": [
    {
     "data": {
      "text/plain": [
       "2.288381887370775"
      ]
     },
     "execution_count": 14,
     "metadata": {},
     "output_type": "execute_result"
    }
   ],
   "source": [
    "# Todas as configurações são default\n",
    "regressor = DecisionTreeRegressor(random_state=0)\n",
    "result = cross_val_score(regressor, X, y, scoring='neg_mean_absolute_error', cv=10)\n",
    "treeresults[variable] = abs(result.mean() * 100)\n",
    "treeresults[variable]"
   ]
  },
  {
   "cell_type": "markdown",
   "metadata": {},
   "source": [
    "### SVM"
   ]
  },
  {
   "cell_type": "code",
   "execution_count": 15,
   "metadata": {},
   "outputs": [
    {
     "data": {
      "text/plain": [
       "7.484432637532429"
      ]
     },
     "execution_count": 15,
     "metadata": {},
     "output_type": "execute_result"
    }
   ],
   "source": [
    "regressor = SVR()\n",
    "result = cross_val_score(regressor, X, y, scoring='neg_mean_absolute_error', cv=10)\n",
    "svmresults[variable] = abs(result.mean() * 100)\n",
    "svmresults[variable]"
   ]
  },
  {
   "cell_type": "markdown",
   "metadata": {},
   "source": [
    "## 3. Número de revisões críticas"
   ]
  },
  {
   "cell_type": "code",
   "execution_count": 16,
   "metadata": {},
   "outputs": [],
   "source": [
    "title = 'Número de Revisões Críticas'\n",
    "variable = 'num_critic_for_reviews'\n",
    "X = df.drop(variable, axis='columns')\n",
    "y = df[variable]"
   ]
  },
  {
   "cell_type": "markdown",
   "metadata": {},
   "source": [
    "### kNN"
   ]
  },
  {
   "cell_type": "code",
   "execution_count": 17,
   "metadata": {},
   "outputs": [],
   "source": [
    "kresults = []\n",
    "for k in ks:\n",
    "    regressor = KNeighborsRegressor(n_neighbors=k, p=2, algorithm='kd_tree')\n",
    "    result = cross_val_score(regressor, X, y, scoring='neg_mean_absolute_error', cv=10)\n",
    "    kresults.append(abs(result.mean() * 100))\n",
    "k_history[variable] = kresults"
   ]
  },
  {
   "cell_type": "code",
   "execution_count": 44,
   "metadata": {},
   "outputs": [
    {
     "data": {
      "text/plain": [
       "(Text(0.5,1,'Escore IMDb\\nRegressão kNN: Erro Absoluto Médio variando k'),\n",
       " 1     14.429685\n",
       " 2     12.705368\n",
       " 3     11.912899\n",
       " 4     11.600569\n",
       " 5     11.311145\n",
       " 6     11.156758\n",
       " 7     11.061840\n",
       " 8     10.965297\n",
       " 9     10.891222\n",
       " 10    10.847611\n",
       " 11    10.785852\n",
       " 12    10.759055\n",
       " 13    10.731408\n",
       " 14    10.734413\n",
       " 15    10.704245\n",
       " 16    10.704587\n",
       " 17    10.687170\n",
       " 18    10.669227\n",
       " 19    10.646473\n",
       " 20    10.637663\n",
       " dtype: float64)"
      ]
     },
     "execution_count": 44,
     "metadata": {},
     "output_type": "execute_result"
    },
    {
     "data": {
      "image/png": "[encoded data removed]",
      "text/plain": [
       "<Figure size 432x288 with 1 Axes>"
      ]
     },
     "metadata": {},
     "output_type": "display_data"
    }
   ],
   "source": [
    "kseries = pd.Series(data=kresults, index=ks)\n",
    "plot = kseries.plot(x=ks)\n",
    "plot.set_xticks(ks)\n",
    "plot.set_xlabel('k')\n",
    "plot.set_ylabel('Erro Absoluto Médio (%)')\n",
    "plot.set_title(title+'\\nRegressão kNN: Erro Absoluto Médio variando k'), kseries"
   ]
  },
  {
   "cell_type": "code",
   "execution_count": 19,
   "metadata": {},
   "outputs": [
    {
     "data": {
      "text/plain": [
       "9.005788469670167"
      ]
     },
     "execution_count": 19,
     "metadata": {},
     "output_type": "execute_result"
    }
   ],
   "source": [
    "# Adotando k = 11\n",
    "k=11\n",
    "knnresults[variable] = kresults[k-1]\n",
    "knnresults[variable]"
   ]
  },
  {
   "cell_type": "markdown",
   "metadata": {},
   "source": [
    "### Árvore de Decisão"
   ]
  },
  {
   "cell_type": "code",
   "execution_count": 20,
   "metadata": {},
   "outputs": [
    {
     "data": {
      "text/plain": [
       "4.9119969356152655"
      ]
     },
     "execution_count": 20,
     "metadata": {},
     "output_type": "execute_result"
    }
   ],
   "source": [
    "# Todas as configurações são default\n",
    "regressor = DecisionTreeRegressor(random_state=0)\n",
    "result = cross_val_score(regressor, X, y, scoring='neg_mean_absolute_error', cv=10)\n",
    "treeresults[variable] = abs(result.mean() * 100)\n",
    "treeresults[variable]"
   ]
  },
  {
   "cell_type": "markdown",
   "metadata": {},
   "source": [
    "### SVM"
   ]
  },
  {
   "cell_type": "code",
   "execution_count": 21,
   "metadata": {},
   "outputs": [
    {
     "data": {
      "text/plain": [
       "8.869283638576434"
      ]
     },
     "execution_count": 21,
     "metadata": {},
     "output_type": "execute_result"
    }
   ],
   "source": [
    "regressor = SVR()\n",
    "result = cross_val_score(regressor, X, y, scoring='neg_mean_absolute_error', cv=10)\n",
    "svmresults[variable] = abs(result.mean() * 100)\n",
    "svmresults[variable]"
   ]
  },
  {
   "cell_type": "markdown",
   "metadata": {},
   "source": [
    "## 4. Número de Votos"
   ]
  },
  {
   "cell_type": "code",
   "execution_count": 22,
   "metadata": {},
   "outputs": [],
   "source": [
    "title = 'Número de Votos'\n",
    "variable = 'num_voted_users'\n",
    "X = df.drop(variable, axis='columns')\n",
    "y = df[variable]"
   ]
  },
  {
   "cell_type": "markdown",
   "metadata": {},
   "source": [
    "### kNN"
   ]
  },
  {
   "cell_type": "code",
   "execution_count": 23,
   "metadata": {},
   "outputs": [],
   "source": [
    "kresults = []\n",
    "for k in ks:\n",
    "    regressor = KNeighborsRegressor(n_neighbors=k, p=2, algorithm='kd_tree')\n",
    "    result = cross_val_score(regressor, X, y, scoring='neg_mean_absolute_error', cv=10)\n",
    "    kresults.append(abs(result.mean() * 100))\n",
    "k_history[variable] = kresults"
   ]
  },
  {
   "cell_type": "code",
   "execution_count": 45,
   "metadata": {},
   "outputs": [
    {
     "data": {
      "text/plain": [
       "(Text(0.5,1,'Escore IMDb\\nRegressão kNN: Erro Absoluto Médio variando k'),\n",
       " 1     14.429685\n",
       " 2     12.705368\n",
       " 3     11.912899\n",
       " 4     11.600569\n",
       " 5     11.311145\n",
       " 6     11.156758\n",
       " 7     11.061840\n",
       " 8     10.965297\n",
       " 9     10.891222\n",
       " 10    10.847611\n",
       " 11    10.785852\n",
       " 12    10.759055\n",
       " 13    10.731408\n",
       " 14    10.734413\n",
       " 15    10.704245\n",
       " 16    10.704587\n",
       " 17    10.687170\n",
       " 18    10.669227\n",
       " 19    10.646473\n",
       " 20    10.637663\n",
       " dtype: float64)"
      ]
     },
     "execution_count": 45,
     "metadata": {},
     "output_type": "execute_result"
    },
    {
     "data": {
      "image/png": "[encoded data removed]",
      "text/plain": [
       "<Figure size 432x288 with 1 Axes>"
      ]
     },
     "metadata": {},
     "output_type": "display_data"
    }
   ],
   "source": [
    "kseries = pd.Series(data=kresults, index=ks)\n",
    "plot = kseries.plot(x=ks)\n",
    "plot.set_xticks(ks)\n",
    "plot.set_xlabel('k')\n",
    "plot.set_ylabel('Erro Absoluto Médio (%)')\n",
    "plot.set_title(title+'\\nRegressão kNN: Erro Absoluto Médio variando k'), kseries"
   ]
  },
  {
   "cell_type": "code",
   "execution_count": 25,
   "metadata": {},
   "outputs": [
    {
     "data": {
      "text/plain": [
       "4.586470078821841"
      ]
     },
     "execution_count": 25,
     "metadata": {},
     "output_type": "execute_result"
    }
   ],
   "source": [
    "# Adotando k = 10\n",
    "k = 10\n",
    "knnresults[variable] = kresults[k-1]\n",
    "knnresults[variable]"
   ]
  },
  {
   "cell_type": "markdown",
   "metadata": {},
   "source": [
    "### Árvore de Decisão"
   ]
  },
  {
   "cell_type": "code",
   "execution_count": 26,
   "metadata": {},
   "outputs": [
    {
     "data": {
      "text/plain": [
       "2.17579726897603"
      ]
     },
     "execution_count": 26,
     "metadata": {},
     "output_type": "execute_result"
    }
   ],
   "source": [
    "# Todas as configurações são default\n",
    "regressor = DecisionTreeRegressor(random_state=0)\n",
    "result = cross_val_score(regressor, X, y, scoring='neg_mean_absolute_error', cv=10)\n",
    "treeresults[variable] = abs(result.mean() * 100)\n",
    "treeresults[variable]"
   ]
  },
  {
   "cell_type": "markdown",
   "metadata": {},
   "source": [
    "### SVM"
   ]
  },
  {
   "cell_type": "code",
   "execution_count": 27,
   "metadata": {},
   "outputs": [
    {
     "data": {
      "text/plain": [
       "8.08383711213629"
      ]
     },
     "execution_count": 27,
     "metadata": {},
     "output_type": "execute_result"
    }
   ],
   "source": [
    "regressor = SVR()\n",
    "result = cross_val_score(regressor, X, y, scoring='neg_mean_absolute_error', cv=10)\n",
    "svmresults[variable] = abs(result.mean() * 100)\n",
    "svmresults[variable]"
   ]
  },
  {
   "cell_type": "markdown",
   "metadata": {},
   "source": [
    "## 5. Arrecadação"
   ]
  },
  {
   "cell_type": "code",
   "execution_count": 28,
   "metadata": {},
   "outputs": [],
   "source": [
    "title = 'Arrecadação'\n",
    "variable = 'gross'\n",
    "X = df.drop(variable, axis='columns')\n",
    "y = df[variable]"
   ]
  },
  {
   "cell_type": "markdown",
   "metadata": {},
   "source": [
    "### kNN"
   ]
  },
  {
   "cell_type": "code",
   "execution_count": 29,
   "metadata": {},
   "outputs": [],
   "source": [
    "kresults = []\n",
    "for k in ks:\n",
    "    regressor = KNeighborsRegressor(n_neighbors=k, p=2, algorithm='kd_tree')\n",
    "    result = cross_val_score(regressor, X, y, scoring='neg_mean_absolute_error', cv=10)\n",
    "    kresults.append(abs(result.mean() * 100))\n",
    "k_history[variable] = kresults"
   ]
  },
  {
   "cell_type": "code",
   "execution_count": 41,
   "metadata": {},
   "outputs": [
    {
     "data": {
      "text/plain": [
       "(Text(0.5,1,'Escore IMDb\\nRegressão kNN: Erro Absoluto Médio variando k'),\n",
       " 1     14.429685\n",
       " 2     12.705368\n",
       " 3     11.912899\n",
       " 4     11.600569\n",
       " 5     11.311145\n",
       " 6     11.156758\n",
       " 7     11.061840\n",
       " 8     10.965297\n",
       " 9     10.891222\n",
       " 10    10.847611\n",
       " 11    10.785852\n",
       " 12    10.759055\n",
       " 13    10.731408\n",
       " 14    10.734413\n",
       " 15    10.704245\n",
       " 16    10.704587\n",
       " 17    10.687170\n",
       " 18    10.669227\n",
       " 19    10.646473\n",
       " 20    10.637663\n",
       " dtype: float64)"
      ]
     },
     "execution_count": 41,
     "metadata": {},
     "output_type": "execute_result"
    },
    {
     "data": {
      "image/png": "[encoded data removed]",
      "text/plain": [
       "<Figure size 432x288 with 1 Axes>"
      ]
     },
     "metadata": {},
     "output_type": "display_data"
    }
   ],
   "source": [
    "kseries = pd.Series(data=kresults, index=ks)\n",
    "plot = kseries.plot(x=ks)\n",
    "plot.set_xticks(ks)\n",
    "plot.set_xlabel('k')\n",
    "plot.set_ylabel('Erro Absoluto Médio (%)')\n",
    "plot.set_title(title+'\\nRegressão kNN: Erro Absoluto Médio variando k'), kseries"
   ]
  },
  {
   "cell_type": "code",
   "execution_count": 31,
   "metadata": {},
   "outputs": [
    {
     "data": {
      "text/plain": [
       "5.064743264536"
      ]
     },
     "execution_count": 31,
     "metadata": {},
     "output_type": "execute_result"
    }
   ],
   "source": [
    "# Adotando k = 10\n",
    "k=10\n",
    "knnresults[variable] = kresults[k-1]\n",
    "knnresults[variable]"
   ]
  },
  {
   "cell_type": "markdown",
   "metadata": {},
   "source": [
    "### Árvore de Decisão"
   ]
  },
  {
   "cell_type": "code",
   "execution_count": 32,
   "metadata": {},
   "outputs": [
    {
     "data": {
      "text/plain": [
       "4.338059794523037"
      ]
     },
     "execution_count": 32,
     "metadata": {},
     "output_type": "execute_result"
    }
   ],
   "source": [
    "# Todas as configurações são default\n",
    "regressor = DecisionTreeRegressor(random_state=0)\n",
    "result = cross_val_score(regressor, X, y, scoring='neg_mean_absolute_error', cv=10)\n",
    "treeresults[variable] = abs(result.mean() * 100)\n",
    "treeresults[variable]"
   ]
  },
  {
   "cell_type": "markdown",
   "metadata": {},
   "source": [
    "### SVM"
   ]
  },
  {
   "cell_type": "code",
   "execution_count": 33,
   "metadata": {},
   "outputs": [
    {
     "data": {
      "text/plain": [
       "7.457923646025658"
      ]
     },
     "execution_count": 33,
     "metadata": {},
     "output_type": "execute_result"
    }
   ],
   "source": [
    "regressor = SVR()\n",
    "result = cross_val_score(regressor, X, y, scoring='neg_mean_absolute_error', cv=10)\n",
    "svmresults[variable] = abs(result.mean() * 100)\n",
    "svmresults[variable]"
   ]
  },
  {
   "cell_type": "markdown",
   "metadata": {},
   "source": [
    "## 6. Escore IMDb"
   ]
  },
  {
   "cell_type": "code",
   "execution_count": 34,
   "metadata": {},
   "outputs": [],
   "source": [
    "title = 'Escore IMDb'\n",
    "variable = 'imdb_score'\n",
    "X = df.drop(variable, axis='columns')\n",
    "y = df[variable]"
   ]
  },
  {
   "cell_type": "markdown",
   "metadata": {},
   "source": [
    "### kNN"
   ]
  },
  {
   "cell_type": "code",
   "execution_count": 35,
   "metadata": {},
   "outputs": [],
   "source": [
    "kresults = []\n",
    "for k in ks:\n",
    "    regressor = KNeighborsRegressor(n_neighbors=k, p=2, algorithm='kd_tree')\n",
    "    result = cross_val_score(regressor, X, y, scoring='neg_mean_absolute_error', cv=10)\n",
    "    kresults.append(abs(result.mean() * 100))\n",
    "k_history[variable] = kresults"
   ]
  },
  {
   "cell_type": "code",
   "execution_count": 46,
   "metadata": {},
   "outputs": [
    {
     "data": {
      "text/plain": [
       "(Text(0.5,1,'Escore IMDb\\nRegressão kNN: Erro Absoluto Médio variando k'),\n",
       " 1     14.429685\n",
       " 2     12.705368\n",
       " 3     11.912899\n",
       " 4     11.600569\n",
       " 5     11.311145\n",
       " 6     11.156758\n",
       " 7     11.061840\n",
       " 8     10.965297\n",
       " 9     10.891222\n",
       " 10    10.847611\n",
       " 11    10.785852\n",
       " 12    10.759055\n",
       " 13    10.731408\n",
       " 14    10.734413\n",
       " 15    10.704245\n",
       " 16    10.704587\n",
       " 17    10.687170\n",
       " 18    10.669227\n",
       " 19    10.646473\n",
       " 20    10.637663\n",
       " dtype: float64)"
      ]
     },
     "execution_count": 46,
     "metadata": {},
     "output_type": "execute_result"
    },
    {
     "data": {
      "image/png": "[encoded data removed]",
      "text/plain": [
       "<Figure size 432x288 with 1 Axes>"
      ]
     },
     "metadata": {},
     "output_type": "display_data"
    }
   ],
   "source": [
    "kseries = pd.Series(data=kresults, index=ks)\n",
    "plot = kseries.plot(x=ks)\n",
    "plot.set_xticks(ks)\n",
    "plot.set_xlabel('k')\n",
    "plot.set_ylabel('Erro Absoluto Médio (%)')\n",
    "plot.set_title(title+'\\nRegressão kNN: Erro Absoluto Médio variando k'), kseries"
   ]
  },
  {
   "cell_type": "code",
   "execution_count": 37,
   "metadata": {},
   "outputs": [
    {
     "data": {
      "text/plain": [
       "10.965296516645425"
      ]
     },
     "execution_count": 37,
     "metadata": {},
     "output_type": "execute_result"
    }
   ],
   "source": [
    "# Adotando k = 8\n",
    "k = 8\n",
    "knnresults[variable] = kresults[k-1]\n",
    "knnresults[variable]"
   ]
  },
  {
   "cell_type": "markdown",
   "metadata": {},
   "source": [
    "### Árvore de Decisão"
   ]
  },
  {
   "cell_type": "code",
   "execution_count": 38,
   "metadata": {},
   "outputs": [
    {
     "data": {
      "text/plain": [
       "9.614450290621896"
      ]
     },
     "execution_count": 38,
     "metadata": {},
     "output_type": "execute_result"
    }
   ],
   "source": [
    "# Todas as configurações são default\n",
    "regressor = DecisionTreeRegressor(random_state=0)\n",
    "result = cross_val_score(regressor, X, y, scoring='neg_mean_absolute_error', cv=10)\n",
    "treeresults[variable] = abs(result.mean() * 100)\n",
    "treeresults[variable]"
   ]
  },
  {
   "cell_type": "markdown",
   "metadata": {},
   "source": [
    "### SVM"
   ]
  },
  {
   "cell_type": "code",
   "execution_count": 39,
   "metadata": {},
   "outputs": [
    {
     "data": {
      "text/plain": [
       "9.708082371468299"
      ]
     },
     "execution_count": 39,
     "metadata": {},
     "output_type": "execute_result"
    }
   ],
   "source": [
    "regressor = SVR()\n",
    "result = cross_val_score(regressor, X, y, scoring='neg_mean_absolute_error', cv=10)\n",
    "svmresults[variable] = abs(result.mean() * 100)\n",
    "svmresults[variable]"
   ]
  },
  {
   "cell_type": "markdown",
   "metadata": {},
   "source": [
    "# Visão Geral"
   ]
  },
  {
   "cell_type": "code",
   "execution_count": 72,
   "metadata": {},
   "outputs": [
    {
     "data": {
      "text/plain": [
       "<matplotlib.legend.Legend at 0x7fdcd7026668>"
      ]
     },
     "execution_count": 72,
     "metadata": {},
     "output_type": "execute_result"
    },
    {
     "data": {
      "image/png": "[encoded data removed]",
      "text/plain": [
       "<Figure size 432x288 with 1 Axes>"
      ]
     },
     "metadata": {},
     "output_type": "display_data"
    }
   ],
   "source": [
    "khistory_df = pd.DataFrame(k_history)\n",
    "plot = khistory_df.plot(kind='line')\n",
    "plot.set_xticks(ks)\n",
    "plot.set_title('Modelo kNN\\nErro Absoluto Médio em Função de k')\n",
    "plot.set_ylabel('Erro Absoluto Médio (%)')\n",
    "plot.set_xlabel('k')\n",
    "patches, labels = plot.get_legend_handles_labels()\n",
    "labels = ['Arrecadação', 'Escore IMDb', 'Número de curtidas do filme no facebook', 'Número de revisões críticas', 'Número de avaliações por usuários', 'Número de votos']\n",
    "plot.legend(patches, labels, loc='center left', bbox_to_anchor=(1, 0.5))\n"
   ]
  },
  {
   "cell_type": "code",
   "execution_count": 75,
   "metadata": {},
   "outputs": [
    {
     "data": {
      "text/plain": [
       "[Text(0,0,'Arrecadação'),\n",
       " Text(0,0,'Escore IMDb'),\n",
       " Text(0,0,'Número de curtidas do filme no facebook'),\n",
       " Text(0,0,'Número de revisões críticas'),\n",
       " Text(0,0,'Número de avaliações por usuários'),\n",
       " Text(0,0,'Número de votos')]"
      ]
     },
     "execution_count": 75,
     "metadata": {},
     "output_type": "execute_result"
    },
    {
     "data": {
      "image/png": "[encoded data removed]",
      "text/plain": [
       "<Figure size 432x288 with 1 Axes>"
      ]
     },
     "metadata": {},
     "output_type": "display_data"
    }
   ],
   "source": [
    "full_results = {\n",
    "    'kNN': knnresults,\n",
    "    'Decision Tree': treeresults,\n",
    "    'SVR': svmresults\n",
    "}\n",
    "full_results = pd.DataFrame(full_results)\n",
    "plot = full_results.plot(kind='bar')\n",
    "plot.set_title('Erro Absoluto Médio Dos Modelos Para Cada Variável Predita')\n",
    "plot.set_ylabel('Erro Absoluto Médio (%)')\n",
    "plot.set_xlabel('Variável Predita')\n",
    "plot.set_xticklabels(['Arrecadação', 'Escore IMDb', 'Número de curtidas do filme no facebook', \n",
    "                      'Número de revisões críticas', 'Número de avaliações por usuários', 'Número de votos'])"
   ]
  },
  {
   "cell_type": "code",
   "execution_count": null,
   "metadata": {},
   "outputs": [],
   "source": []
  }
 ],
 "metadata": {
  "kernelspec": {
   "display_name": "Python 3",
   "language": "python",
   "name": "python3"
  },
  "language_info": {
   "codemirror_mode": {
    "name": "ipython",
    "version": 3
   },
   "file_extension": ".py",
   "mimetype": "text/x-python",
   "name": "python",
   "nbconvert_exporter": "python",
   "pygments_lexer": "ipython3",
   "version": "3.6.5"
  }
 },
 "nbformat": 4,
 "nbformat_minor": 2
}
